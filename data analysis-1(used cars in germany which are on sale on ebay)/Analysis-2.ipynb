{
 "cells": [
  {
   "cell_type": "code",
   "execution_count": 1,
   "id": "6d6760f4",
   "metadata": {},
   "outputs": [],
   "source": [
    "import numpy as np\n",
    "import pandas as pd\n",
    "import matplotlib.pyplot as plt\n",
    "import seaborn as sns\n",
    "import scipy as s\n",
    "import scipy.stats as ss"
   ]
  },
  {
   "cell_type": "code",
   "execution_count": 2,
   "id": "070e0e07",
   "metadata": {},
   "outputs": [],
   "source": [
    "data=pd.read_csv(r\"C:\\Users\\seeth\\python 232\\Statistics\\cleaned data of autos.csv\")"
   ]
  },
  {
   "cell_type": "code",
   "execution_count": 3,
   "id": "5b05b738",
   "metadata": {},
   "outputs": [],
   "source": [
    "df=data.copy()"
   ]
  },
  {
   "cell_type": "code",
   "execution_count": 4,
   "id": "6b6ab3e9",
   "metadata": {},
   "outputs": [
    {
     "data": {
      "text/html": [
       "<div>\n",
       "<style scoped>\n",
       "    .dataframe tbody tr th:only-of-type {\n",
       "        vertical-align: middle;\n",
       "    }\n",
       "\n",
       "    .dataframe tbody tr th {\n",
       "        vertical-align: top;\n",
       "    }\n",
       "\n",
       "    .dataframe thead th {\n",
       "        text-align: right;\n",
       "    }\n",
       "</style>\n",
       "<table border=\"1\" class=\"dataframe\">\n",
       "  <thead>\n",
       "    <tr style=\"text-align: right;\">\n",
       "      <th></th>\n",
       "      <th>date_crawled</th>\n",
       "      <th>name</th>\n",
       "      <th>seller</th>\n",
       "      <th>offer_type</th>\n",
       "      <th>price</th>\n",
       "      <th>abtest</th>\n",
       "      <th>vehicle_type</th>\n",
       "      <th>registration_year</th>\n",
       "      <th>gearbox</th>\n",
       "      <th>power_ps</th>\n",
       "      <th>model</th>\n",
       "      <th>odometer</th>\n",
       "      <th>registration_month</th>\n",
       "      <th>fuel_type</th>\n",
       "      <th>brand</th>\n",
       "      <th>unrepaired_damage</th>\n",
       "      <th>ad_created</th>\n",
       "      <th>postal_code</th>\n",
       "      <th>last_seen</th>\n",
       "    </tr>\n",
       "  </thead>\n",
       "  <tbody>\n",
       "    <tr>\n",
       "      <th>0</th>\n",
       "      <td>2016-03-24</td>\n",
       "      <td>Golf_3_1.6</td>\n",
       "      <td>privat</td>\n",
       "      <td>Angebot</td>\n",
       "      <td>480</td>\n",
       "      <td>test</td>\n",
       "      <td>not mentioned</td>\n",
       "      <td>1993</td>\n",
       "      <td>manuell</td>\n",
       "      <td>0</td>\n",
       "      <td>golf</td>\n",
       "      <td>150000</td>\n",
       "      <td>0</td>\n",
       "      <td>benzin</td>\n",
       "      <td>volkswagen</td>\n",
       "      <td>unknown</td>\n",
       "      <td>2016-03-24</td>\n",
       "      <td>70435</td>\n",
       "      <td>2016-04-07</td>\n",
       "    </tr>\n",
       "    <tr>\n",
       "      <th>1</th>\n",
       "      <td>2016-03-24</td>\n",
       "      <td>A5_Sportback_2.7_Tdi</td>\n",
       "      <td>privat</td>\n",
       "      <td>Angebot</td>\n",
       "      <td>18300</td>\n",
       "      <td>test</td>\n",
       "      <td>coupe</td>\n",
       "      <td>2011</td>\n",
       "      <td>manuell</td>\n",
       "      <td>190</td>\n",
       "      <td>golf</td>\n",
       "      <td>125000</td>\n",
       "      <td>5</td>\n",
       "      <td>diesel</td>\n",
       "      <td>audi</td>\n",
       "      <td>ja</td>\n",
       "      <td>2016-03-24</td>\n",
       "      <td>66954</td>\n",
       "      <td>2016-04-07</td>\n",
       "    </tr>\n",
       "    <tr>\n",
       "      <th>2</th>\n",
       "      <td>2016-03-14</td>\n",
       "      <td>Jeep_Grand_Cherokee_\"Overland\"</td>\n",
       "      <td>privat</td>\n",
       "      <td>Angebot</td>\n",
       "      <td>9800</td>\n",
       "      <td>test</td>\n",
       "      <td>suv</td>\n",
       "      <td>2004</td>\n",
       "      <td>automatik</td>\n",
       "      <td>163</td>\n",
       "      <td>grand</td>\n",
       "      <td>125000</td>\n",
       "      <td>8</td>\n",
       "      <td>diesel</td>\n",
       "      <td>jeep</td>\n",
       "      <td>unknown</td>\n",
       "      <td>2016-03-14</td>\n",
       "      <td>90480</td>\n",
       "      <td>2016-04-05</td>\n",
       "    </tr>\n",
       "    <tr>\n",
       "      <th>3</th>\n",
       "      <td>2016-03-17</td>\n",
       "      <td>GOLF_4_1_4__3TÜRER</td>\n",
       "      <td>privat</td>\n",
       "      <td>Angebot</td>\n",
       "      <td>1500</td>\n",
       "      <td>test</td>\n",
       "      <td>kleinwagen</td>\n",
       "      <td>2001</td>\n",
       "      <td>manuell</td>\n",
       "      <td>75</td>\n",
       "      <td>golf</td>\n",
       "      <td>150000</td>\n",
       "      <td>6</td>\n",
       "      <td>benzin</td>\n",
       "      <td>volkswagen</td>\n",
       "      <td>nein</td>\n",
       "      <td>2016-03-17</td>\n",
       "      <td>91074</td>\n",
       "      <td>2016-03-17</td>\n",
       "    </tr>\n",
       "    <tr>\n",
       "      <th>4</th>\n",
       "      <td>2016-03-31</td>\n",
       "      <td>Skoda_Fabia_1.4_TDI_PD_Classic</td>\n",
       "      <td>privat</td>\n",
       "      <td>Angebot</td>\n",
       "      <td>3600</td>\n",
       "      <td>test</td>\n",
       "      <td>kleinwagen</td>\n",
       "      <td>2008</td>\n",
       "      <td>manuell</td>\n",
       "      <td>69</td>\n",
       "      <td>fabia</td>\n",
       "      <td>90000</td>\n",
       "      <td>7</td>\n",
       "      <td>diesel</td>\n",
       "      <td>skoda</td>\n",
       "      <td>nein</td>\n",
       "      <td>2016-03-31</td>\n",
       "      <td>60437</td>\n",
       "      <td>2016-04-06</td>\n",
       "    </tr>\n",
       "    <tr>\n",
       "      <th>...</th>\n",
       "      <td>...</td>\n",
       "      <td>...</td>\n",
       "      <td>...</td>\n",
       "      <td>...</td>\n",
       "      <td>...</td>\n",
       "      <td>...</td>\n",
       "      <td>...</td>\n",
       "      <td>...</td>\n",
       "      <td>...</td>\n",
       "      <td>...</td>\n",
       "      <td>...</td>\n",
       "      <td>...</td>\n",
       "      <td>...</td>\n",
       "      <td>...</td>\n",
       "      <td>...</td>\n",
       "      <td>...</td>\n",
       "      <td>...</td>\n",
       "      <td>...</td>\n",
       "      <td>...</td>\n",
       "    </tr>\n",
       "    <tr>\n",
       "      <th>371523</th>\n",
       "      <td>2016-03-14</td>\n",
       "      <td>Suche_t4___vito_ab_6_sitze</td>\n",
       "      <td>privat</td>\n",
       "      <td>Angebot</td>\n",
       "      <td>2200</td>\n",
       "      <td>test</td>\n",
       "      <td>not mentioned</td>\n",
       "      <td>2005</td>\n",
       "      <td>manuell</td>\n",
       "      <td>0</td>\n",
       "      <td>golf</td>\n",
       "      <td>20000</td>\n",
       "      <td>1</td>\n",
       "      <td>unknown</td>\n",
       "      <td>sonstige_autos</td>\n",
       "      <td>unknown</td>\n",
       "      <td>2016-03-14</td>\n",
       "      <td>39576</td>\n",
       "      <td>2016-04-06</td>\n",
       "    </tr>\n",
       "    <tr>\n",
       "      <th>371524</th>\n",
       "      <td>2016-03-05</td>\n",
       "      <td>Smart_smart_leistungssteigerung_100ps</td>\n",
       "      <td>privat</td>\n",
       "      <td>Angebot</td>\n",
       "      <td>1199</td>\n",
       "      <td>test</td>\n",
       "      <td>cabrio</td>\n",
       "      <td>2000</td>\n",
       "      <td>automatik</td>\n",
       "      <td>101</td>\n",
       "      <td>fortwo</td>\n",
       "      <td>125000</td>\n",
       "      <td>3</td>\n",
       "      <td>benzin</td>\n",
       "      <td>smart</td>\n",
       "      <td>nein</td>\n",
       "      <td>2016-03-05</td>\n",
       "      <td>26135</td>\n",
       "      <td>2016-03-11</td>\n",
       "    </tr>\n",
       "    <tr>\n",
       "      <th>371525</th>\n",
       "      <td>2016-03-19</td>\n",
       "      <td>Volkswagen_Multivan_T4_TDI_7DC_UY2</td>\n",
       "      <td>privat</td>\n",
       "      <td>Angebot</td>\n",
       "      <td>9200</td>\n",
       "      <td>test</td>\n",
       "      <td>bus</td>\n",
       "      <td>1996</td>\n",
       "      <td>manuell</td>\n",
       "      <td>102</td>\n",
       "      <td>transporter</td>\n",
       "      <td>150000</td>\n",
       "      <td>3</td>\n",
       "      <td>diesel</td>\n",
       "      <td>volkswagen</td>\n",
       "      <td>nein</td>\n",
       "      <td>2016-03-19</td>\n",
       "      <td>87439</td>\n",
       "      <td>2016-04-07</td>\n",
       "    </tr>\n",
       "    <tr>\n",
       "      <th>371526</th>\n",
       "      <td>2016-03-20</td>\n",
       "      <td>VW_Golf_Kombi_1_9l_TDI</td>\n",
       "      <td>privat</td>\n",
       "      <td>Angebot</td>\n",
       "      <td>3400</td>\n",
       "      <td>test</td>\n",
       "      <td>kombi</td>\n",
       "      <td>2002</td>\n",
       "      <td>manuell</td>\n",
       "      <td>100</td>\n",
       "      <td>golf</td>\n",
       "      <td>150000</td>\n",
       "      <td>6</td>\n",
       "      <td>diesel</td>\n",
       "      <td>volkswagen</td>\n",
       "      <td>unknown</td>\n",
       "      <td>2016-03-20</td>\n",
       "      <td>40764</td>\n",
       "      <td>2016-03-24</td>\n",
       "    </tr>\n",
       "    <tr>\n",
       "      <th>371527</th>\n",
       "      <td>2016-03-07</td>\n",
       "      <td>BMW_M135i_vollausgestattet_NP_52.720____Euro</td>\n",
       "      <td>privat</td>\n",
       "      <td>Angebot</td>\n",
       "      <td>28990</td>\n",
       "      <td>control</td>\n",
       "      <td>limousine</td>\n",
       "      <td>2013</td>\n",
       "      <td>manuell</td>\n",
       "      <td>320</td>\n",
       "      <td>m_reihe</td>\n",
       "      <td>50000</td>\n",
       "      <td>8</td>\n",
       "      <td>benzin</td>\n",
       "      <td>bmw</td>\n",
       "      <td>nein</td>\n",
       "      <td>2016-03-07</td>\n",
       "      <td>73326</td>\n",
       "      <td>2016-03-22</td>\n",
       "    </tr>\n",
       "  </tbody>\n",
       "</table>\n",
       "<p>371528 rows × 19 columns</p>\n",
       "</div>"
      ],
      "text/plain": [
       "       date_crawled                                          name  seller  \\\n",
       "0        2016-03-24                                    Golf_3_1.6  privat   \n",
       "1        2016-03-24                          A5_Sportback_2.7_Tdi  privat   \n",
       "2        2016-03-14                Jeep_Grand_Cherokee_\"Overland\"  privat   \n",
       "3        2016-03-17                            GOLF_4_1_4__3TÜRER  privat   \n",
       "4        2016-03-31                Skoda_Fabia_1.4_TDI_PD_Classic  privat   \n",
       "...             ...                                           ...     ...   \n",
       "371523   2016-03-14                    Suche_t4___vito_ab_6_sitze  privat   \n",
       "371524   2016-03-05         Smart_smart_leistungssteigerung_100ps  privat   \n",
       "371525   2016-03-19            Volkswagen_Multivan_T4_TDI_7DC_UY2  privat   \n",
       "371526   2016-03-20                        VW_Golf_Kombi_1_9l_TDI  privat   \n",
       "371527   2016-03-07  BMW_M135i_vollausgestattet_NP_52.720____Euro  privat   \n",
       "\n",
       "       offer_type  price   abtest   vehicle_type  registration_year  \\\n",
       "0         Angebot    480     test  not mentioned               1993   \n",
       "1         Angebot  18300     test          coupe               2011   \n",
       "2         Angebot   9800     test            suv               2004   \n",
       "3         Angebot   1500     test     kleinwagen               2001   \n",
       "4         Angebot   3600     test     kleinwagen               2008   \n",
       "...           ...    ...      ...            ...                ...   \n",
       "371523    Angebot   2200     test  not mentioned               2005   \n",
       "371524    Angebot   1199     test         cabrio               2000   \n",
       "371525    Angebot   9200     test            bus               1996   \n",
       "371526    Angebot   3400     test          kombi               2002   \n",
       "371527    Angebot  28990  control      limousine               2013   \n",
       "\n",
       "          gearbox  power_ps        model  odometer  registration_month  \\\n",
       "0         manuell         0         golf    150000                   0   \n",
       "1         manuell       190         golf    125000                   5   \n",
       "2       automatik       163        grand    125000                   8   \n",
       "3         manuell        75         golf    150000                   6   \n",
       "4         manuell        69        fabia     90000                   7   \n",
       "...           ...       ...          ...       ...                 ...   \n",
       "371523    manuell         0         golf     20000                   1   \n",
       "371524  automatik       101       fortwo    125000                   3   \n",
       "371525    manuell       102  transporter    150000                   3   \n",
       "371526    manuell       100         golf    150000                   6   \n",
       "371527    manuell       320      m_reihe     50000                   8   \n",
       "\n",
       "       fuel_type           brand unrepaired_damage  ad_created  postal_code  \\\n",
       "0         benzin      volkswagen           unknown  2016-03-24        70435   \n",
       "1         diesel            audi                ja  2016-03-24        66954   \n",
       "2         diesel            jeep           unknown  2016-03-14        90480   \n",
       "3         benzin      volkswagen              nein  2016-03-17        91074   \n",
       "4         diesel           skoda              nein  2016-03-31        60437   \n",
       "...          ...             ...               ...         ...          ...   \n",
       "371523   unknown  sonstige_autos           unknown  2016-03-14        39576   \n",
       "371524    benzin           smart              nein  2016-03-05        26135   \n",
       "371525    diesel      volkswagen              nein  2016-03-19        87439   \n",
       "371526    diesel      volkswagen           unknown  2016-03-20        40764   \n",
       "371527    benzin             bmw              nein  2016-03-07        73326   \n",
       "\n",
       "         last_seen  \n",
       "0       2016-04-07  \n",
       "1       2016-04-07  \n",
       "2       2016-04-05  \n",
       "3       2016-03-17  \n",
       "4       2016-04-06  \n",
       "...            ...  \n",
       "371523  2016-04-06  \n",
       "371524  2016-03-11  \n",
       "371525  2016-04-07  \n",
       "371526  2016-03-24  \n",
       "371527  2016-03-22  \n",
       "\n",
       "[371528 rows x 19 columns]"
      ]
     },
     "execution_count": 4,
     "metadata": {},
     "output_type": "execute_result"
    }
   ],
   "source": [
    "df"
   ]
  },
  {
   "cell_type": "markdown",
   "id": "cb4b840d",
   "metadata": {},
   "source": [
    "### 1) Can you tell me No of Vehicles by Brand Available on ebay for sale with the help of visualization"
   ]
  },
  {
   "cell_type": "code",
   "execution_count": 34,
   "id": "3538787c",
   "metadata": {},
   "outputs": [
    {
     "data": {
      "text/plain": [
       "volkswagen        79640\n",
       "bmw               40274\n",
       "opel              40136\n",
       "mercedes_benz     35309\n",
       "audi              32873\n",
       "ford              25573\n",
       "renault           17969\n",
       "peugeot           11027\n",
       "fiat               9676\n",
       "seat               7022\n",
       "mazda              5695\n",
       "skoda              5641\n",
       "smart              5249\n",
       "citroen            5182\n",
       "nissan             5037\n",
       "toyota             4694\n",
       "sonstige_autos     3982\n",
       "hyundai            3646\n",
       "mini               3394\n",
       "volvo              3327\n",
       "mitsubishi         3061\n",
       "honda              2836\n",
       "kia                2555\n",
       "alfa_romeo         2345\n",
       "suzuki             2328\n",
       "porsche            2215\n",
       "chevrolet          1845\n",
       "chrysler           1452\n",
       "dacia               900\n",
       "jeep                807\n",
       "daihatsu            806\n",
       "subaru              779\n",
       "land_rover          770\n",
       "jaguar              621\n",
       "trabant             591\n",
       "daewoo              542\n",
       "saab                530\n",
       "rover               490\n",
       "lancia              484\n",
       "lada                225\n",
       "Name: brand, dtype: int64"
      ]
     },
     "execution_count": 34,
     "metadata": {},
     "output_type": "execute_result"
    }
   ],
   "source": [
    "df[\"brand\"].value_counts()"
   ]
  },
  {
   "cell_type": "code",
   "execution_count": 70,
   "id": "610a187c",
   "metadata": {},
   "outputs": [
    {
     "data": {
      "image/png": "[encoded data removed]",
      "text/plain": [
       "<Figure size 640x480 with 1 Axes>"
      ]
     },
     "metadata": {},
     "output_type": "display_data"
    }
   ],
   "source": [
    "sns.barplot(data=df,x=df[\"brand\"].value_counts().index,y=df[\"brand\"].value_counts())\n",
    "plt.xticks(rotation=90)\n",
    "plt.title(\"No. of vehicles based on brands\")\n",
    "plt.xlabel(\"brands\")\n",
    "plt.ylabel(\"No.of vehicles\")\n",
    "plt.show()"
   ]
  },
  {
   "cell_type": "markdown",
   "id": "ca31a5de",
   "metadata": {},
   "source": [
    "### 2) What is the Average price for vehicles based on the type of vehicle as well as on the type of gearbox.Explain me with both numerical and visualization analysis\n"
   ]
  },
  {
   "cell_type": "code",
   "execution_count": 98,
   "id": "41a089df",
   "metadata": {},
   "outputs": [
    {
     "data": {
      "text/html": [
       "<div>\n",
       "<style scoped>\n",
       "    .dataframe tbody tr th:only-of-type {\n",
       "        vertical-align: middle;\n",
       "    }\n",
       "\n",
       "    .dataframe tbody tr th {\n",
       "        vertical-align: top;\n",
       "    }\n",
       "\n",
       "    .dataframe thead th {\n",
       "        text-align: right;\n",
       "    }\n",
       "</style>\n",
       "<table border=\"1\" class=\"dataframe\">\n",
       "  <thead>\n",
       "    <tr style=\"text-align: right;\">\n",
       "      <th></th>\n",
       "      <th>gearbox</th>\n",
       "      <th>price</th>\n",
       "    </tr>\n",
       "  </thead>\n",
       "  <tbody>\n",
       "    <tr>\n",
       "      <th>0</th>\n",
       "      <td>automatik</td>\n",
       "      <td>15146.603061</td>\n",
       "    </tr>\n",
       "    <tr>\n",
       "      <th>1</th>\n",
       "      <td>manuell</td>\n",
       "      <td>17857.812189</td>\n",
       "    </tr>\n",
       "  </tbody>\n",
       "</table>\n",
       "</div>"
      ],
      "text/plain": [
       "     gearbox         price\n",
       "0  automatik  15146.603061\n",
       "1    manuell  17857.812189"
      ]
     },
     "execution_count": 98,
     "metadata": {},
     "output_type": "execute_result"
    }
   ],
   "source": [
    "b=df.groupby(\"gearbox\")[[\"price\"]].mean()\n",
    "avg_price_of_gearbox=b.reset_index()\n",
    "avg_price_of_gearbox"
   ]
  },
  {
   "cell_type": "code",
   "execution_count": 99,
   "id": "c3c0dd10",
   "metadata": {},
   "outputs": [
    {
     "data": {
      "text/html": [
       "<div>\n",
       "<style scoped>\n",
       "    .dataframe tbody tr th:only-of-type {\n",
       "        vertical-align: middle;\n",
       "    }\n",
       "\n",
       "    .dataframe tbody tr th {\n",
       "        vertical-align: top;\n",
       "    }\n",
       "\n",
       "    .dataframe thead th {\n",
       "        text-align: right;\n",
       "    }\n",
       "</style>\n",
       "<table border=\"1\" class=\"dataframe\">\n",
       "  <thead>\n",
       "    <tr style=\"text-align: right;\">\n",
       "      <th></th>\n",
       "      <th>vehicle_type</th>\n",
       "      <th>price</th>\n",
       "    </tr>\n",
       "  </thead>\n",
       "  <tbody>\n",
       "    <tr>\n",
       "      <th>0</th>\n",
       "      <td>andere</td>\n",
       "      <td>677328.957700</td>\n",
       "    </tr>\n",
       "    <tr>\n",
       "      <th>1</th>\n",
       "      <td>bus</td>\n",
       "      <td>10302.742956</td>\n",
       "    </tr>\n",
       "    <tr>\n",
       "      <th>2</th>\n",
       "      <td>cabrio</td>\n",
       "      <td>15066.444013</td>\n",
       "    </tr>\n",
       "    <tr>\n",
       "      <th>3</th>\n",
       "      <td>coupe</td>\n",
       "      <td>25961.682040</td>\n",
       "    </tr>\n",
       "    <tr>\n",
       "      <th>4</th>\n",
       "      <td>kleinwagen</td>\n",
       "      <td>5694.229134</td>\n",
       "    </tr>\n",
       "    <tr>\n",
       "      <th>5</th>\n",
       "      <td>kombi</td>\n",
       "      <td>7741.217409</td>\n",
       "    </tr>\n",
       "    <tr>\n",
       "      <th>6</th>\n",
       "      <td>limousine</td>\n",
       "      <td>11116.186404</td>\n",
       "    </tr>\n",
       "    <tr>\n",
       "      <th>7</th>\n",
       "      <td>not mentioned</td>\n",
       "      <td>20137.725263</td>\n",
       "    </tr>\n",
       "    <tr>\n",
       "      <th>8</th>\n",
       "      <td>suv</td>\n",
       "      <td>13242.822397</td>\n",
       "    </tr>\n",
       "  </tbody>\n",
       "</table>\n",
       "</div>"
      ],
      "text/plain": [
       "    vehicle_type          price\n",
       "0         andere  677328.957700\n",
       "1            bus   10302.742956\n",
       "2         cabrio   15066.444013\n",
       "3          coupe   25961.682040\n",
       "4     kleinwagen    5694.229134\n",
       "5          kombi    7741.217409\n",
       "6      limousine   11116.186404\n",
       "7  not mentioned   20137.725263\n",
       "8            suv   13242.822397"
      ]
     },
     "execution_count": 99,
     "metadata": {},
     "output_type": "execute_result"
    }
   ],
   "source": [
    "c=df.groupby(\"vehicle_type\")[[\"price\"]].mean()\n",
    "avg_price_of_vehicle=c.reset_index()\n",
    "avg_price_of_vehicle"
   ]
  },
  {
   "cell_type": "code",
   "execution_count": 108,
   "id": "bee6167d",
   "metadata": {},
   "outputs": [
    {
     "data": {
      "image/png": "[encoded data removed]",
      "text/plain": [
       "<Figure size 640x480 with 1 Axes>"
      ]
     },
     "metadata": {},
     "output_type": "display_data"
    }
   ],
   "source": [
    "sns.barplot(data=avg_price_of_vehicle,x=\"vehicle_type\",y=\"price\")\n",
    "plt.xlabel(\"average price\")\n",
    "plt.ylabel(\"vehicle type\")\n",
    "plt.xticks(rotation=90)\n",
    "plt.show()"
   ]
  },
  {
   "cell_type": "code",
   "execution_count": 121,
   "id": "4e086abe",
   "metadata": {},
   "outputs": [
    {
     "data": {
      "text/html": [
       "<div>\n",
       "<style scoped>\n",
       "    .dataframe tbody tr th:only-of-type {\n",
       "        vertical-align: middle;\n",
       "    }\n",
       "\n",
       "    .dataframe tbody tr th {\n",
       "        vertical-align: top;\n",
       "    }\n",
       "\n",
       "    .dataframe thead th {\n",
       "        text-align: right;\n",
       "    }\n",
       "</style>\n",
       "<table border=\"1\" class=\"dataframe\">\n",
       "  <thead>\n",
       "    <tr style=\"text-align: right;\">\n",
       "      <th></th>\n",
       "      <th>gearbox</th>\n",
       "      <th>price</th>\n",
       "    </tr>\n",
       "  </thead>\n",
       "  <tbody>\n",
       "    <tr>\n",
       "      <th>0</th>\n",
       "      <td>automatik</td>\n",
       "      <td>15146.603061</td>\n",
       "    </tr>\n",
       "    <tr>\n",
       "      <th>1</th>\n",
       "      <td>manuell</td>\n",
       "      <td>17857.812189</td>\n",
       "    </tr>\n",
       "  </tbody>\n",
       "</table>\n",
       "</div>"
      ],
      "text/plain": [
       "     gearbox         price\n",
       "0  automatik  15146.603061\n",
       "1    manuell  17857.812189"
      ]
     },
     "execution_count": 121,
     "metadata": {},
     "output_type": "execute_result"
    }
   ],
   "source": [
    "avg_price_of_gearbox"
   ]
  },
  {
   "cell_type": "code",
   "execution_count": 122,
   "id": "2001a182",
   "metadata": {},
   "outputs": [
    {
     "data": {
      "image/png": "[encoded data removed]",
      "text/plain": [
       "<Figure size 640x480 with 1 Axes>"
      ]
     },
     "metadata": {},
     "output_type": "display_data"
    }
   ],
   "source": [
    "plt.pie(avg_price_of_gearbox.price, labels=avg_price_of_gearbox.gearbox,autopct='%1.2f%%')\n",
    "plt.show()"
   ]
  },
  {
   "cell_type": "markdown",
   "id": "61e60587",
   "metadata": {},
   "source": [
    "### 3) What is the marginal probability of private seller\n"
   ]
  },
  {
   "cell_type": "code",
   "execution_count": 116,
   "id": "86144d17",
   "metadata": {},
   "outputs": [
    {
     "data": {
      "text/plain": [
       "371525"
      ]
     },
     "execution_count": 116,
     "metadata": {},
     "output_type": "execute_result"
    }
   ],
   "source": [
    "pro_private_seller=df[\"seller\"].value_counts()[0]\n",
    "pro_private_seller"
   ]
  },
  {
   "cell_type": "code",
   "execution_count": 117,
   "id": "95a81443",
   "metadata": {},
   "outputs": [
    {
     "data": {
      "text/plain": [
       "371528"
      ]
     },
     "execution_count": 117,
     "metadata": {},
     "output_type": "execute_result"
    }
   ],
   "source": [
    "total=df[\"seller\"].count()\n",
    "total"
   ]
  },
  {
   "cell_type": "code",
   "execution_count": 120,
   "id": "75319eb3",
   "metadata": {},
   "outputs": [
    {
     "data": {
      "text/plain": [
       "0.9999919252384746"
      ]
     },
     "execution_count": 120,
     "metadata": {},
     "output_type": "execute_result"
    }
   ],
   "source": [
    "marginal_pro=pro_private_seller/total\n",
    "marginal_pro"
   ]
  },
  {
   "cell_type": "code",
   "execution_count": null,
   "id": "557a6b6c",
   "metadata": {},
   "outputs": [],
   "source": []
  }
 ],
 "metadata": {
  "kernelspec": {
   "display_name": "Python 3 (ipykernel)",
   "language": "python",
   "name": "python3"
  },
  "language_info": {
   "codemirror_mode": {
    "name": "ipython",
    "version": 3
   },
   "file_extension": ".py",
   "mimetype": "text/x-python",
   "name": "python",
   "nbconvert_exporter": "python",
   "pygments_lexer": "ipython3",
   "version": "3.10.9"
  }
 },
 "nbformat": 4,
 "nbformat_minor": 5
}
